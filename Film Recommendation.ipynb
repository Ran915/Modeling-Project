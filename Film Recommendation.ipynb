{
 "cells": [
  {
   "cell_type": "markdown",
   "metadata": {},
   "source": [
    "# Data"
   ]
  },
  {
   "cell_type": "code",
   "execution_count": 1,
   "metadata": {
    "scrolled": true
   },
   "outputs": [
    {
     "name": "stderr",
     "output_type": "stream",
     "text": [
      "/Users/zili/anaconda3/lib/python3.6/site-packages/h5py/__init__.py:36: FutureWarning: Conversion of the second argument of issubdtype from `float` to `np.floating` is deprecated. In future, it will be treated as `np.float64 == np.dtype(float).type`.\n",
      "  from ._conv import register_converters as _register_converters\n"
     ]
    }
   ],
   "source": [
    "import os\n",
    "\n",
    "import urllib.request\n",
    "import pandas as pd\n",
    "import numpy as np\n",
    "import tmdbsimple as tmdb\n",
    "from IPython.display import display, HTML, Image\n",
    "\n",
    "### For img scraping\n",
    "from lib.utility import tmdb_img_download,display_images,cosine_matrix\n",
    "\n",
    "### For deep learning feature extraction\n",
    "from lib.extractor import ImgExtractor\n",
    "\n",
    "from IPython.display import display\n",
    "\n",
    "from scipy import sparse\n",
    "import pyspark\n",
    "from pyspark.sql import SQLContext\n",
    "from pyspark.mllib.recommendation import ALS,MatrixFactorizationModel, Rating\n",
    "from concurrent.futures import ProcessPoolExecutor, ThreadPoolExecutor\n",
    "import multiprocessing\n",
    "from multiprocessing import Process, Manager"
   ]
  },
  {
   "cell_type": "markdown",
   "metadata": {},
   "source": [
    "### Rating data"
   ]
  },
  {
   "cell_type": "code",
   "execution_count": 2,
   "metadata": {},
   "outputs": [
    {
     "data": {
      "text/plain": [
       "['.DS_Store', 'ml-latest-small.zip', 'ml-latest-small', 'poster']"
      ]
     },
     "execution_count": 2,
     "metadata": {},
     "output_type": "execute_result"
    }
   ],
   "source": [
    "\"\"\"movie rating data: Only run it one time\"\"\" \n",
    "\n",
    "ratingUrl = \"http://files.grouplens.org/datasets/movielens/ml-latest-small.zip\"\n",
    "urllib.request.urlretrieve(ratingUrl,\"data/ml-latest-small.zip\")\n",
    "os.system(\"unzip -a -n data/ml-latest-small.zip -d data/\")\n",
    "os.listdir(\"data/\")"
   ]
  },
  {
   "cell_type": "markdown",
   "metadata": {},
   "source": [
    "### Poster data"
   ]
  },
  {
   "cell_type": "code",
   "execution_count": 3,
   "metadata": {},
   "outputs": [],
   "source": [
    "### Poster data\n",
    "id = 505\n",
    "tmdbPath = 'http://image.tmdb.org/t/p/w185/' # check https://developers.themoviedb.org/3/getting-started/image-languages\n",
    "\n",
    "key_v3 = '10f40f0d5d794e4bacb266188128a896'\n",
    "tmdb_connector = tmdb\n",
    "tmdb_connector.API_KEY = key_v3\n",
    "\n",
    "movieInfo = tmdb.Movies(id).info()\n",
    "# print(movieInfo)\n",
    "posterPath = movieInfo['poster_path']\n",
    "fullPath = tmdbPath + posterPath\n",
    "# print(fullPath)\n",
    "# display_images(id=600,path_db=path_db)"
   ]
  },
  {
   "cell_type": "code",
   "execution_count": 4,
   "metadata": {},
   "outputs": [
    {
     "data": {
      "text/plain": [
       "('data/poster/505.jpg', <http.client.HTTPMessage at 0x10cd86198>)"
      ]
     },
     "execution_count": 4,
     "metadata": {},
     "output_type": "execute_result"
    }
   ],
   "source": [
    "# os.path.join(os.getcwd(),\"data/poster/{}.jpg\".format(id))\n",
    "urllib.request.urlretrieve(fullPath, \"data/poster/{}.jpg\".format(id))"
   ]
  },
  {
   "cell_type": "markdown",
   "metadata": {},
   "source": [
    "### Show data"
   ]
  },
  {
   "cell_type": "code",
   "execution_count": 5,
   "metadata": {},
   "outputs": [
    {
     "data": {
      "text/html": [
       "<img style='width: 100px; margin: 0px;         float: left; border: 1px solid black;' src='http://image.tmdb.org/t/p/w185//8NVYY7BH8OhPCRiIREB0SBu9Ly5.jpg' />"
      ],
      "text/plain": [
       "<IPython.core.display.HTML object>"
      ]
     },
     "metadata": {},
     "output_type": "display_data"
    }
   ],
   "source": [
    "images = ''\n",
    "\n",
    "images += \"<img style='width: 100px; margin: 0px; \\\n",
    "        float: left; border: 1px solid black;' src='%s' />\" \\\n",
    "        % fullPath\n",
    "\n",
    "display(HTML(images))"
   ]
  },
  {
   "cell_type": "markdown",
   "metadata": {},
   "source": [
    "# Part 1: Recommendation based on movie rating data\n",
    "#### Tools: Spark, ALS model"
   ]
  },
  {
   "cell_type": "code",
   "execution_count": 6,
   "metadata": {},
   "outputs": [
    {
     "name": "stdout",
     "output_type": "stream",
     "text": [
      "   userId  movieId  rating   timestamp  imdbId  tmdbId\n",
      "0       1        1     4.0   964982703  114709     862\n",
      "1       5        1     4.0   847434962  114709     862\n",
      "2       7        1     4.5  1106635946  114709     862\n",
      "3      15        1     2.5  1510577970  114709     862\n",
      "4      17        1     4.5  1305696483  114709     862\n",
      "(100823, 6)\n"
     ]
    }
   ],
   "source": [
    "rating_df = pd.read_csv('data/ml-latest-small/ratings.csv')\n",
    "linkes_df = pd.read_csv('data/ml-latest-small/links.csv')\n",
    "\n",
    "df_merged = pd.merge(rating_df,linkes_df,on=['movieId'])\n",
    "df_merged.dropna(how=\"any\",inplace=True)\n",
    "df_merged['tmdbId'] = [int(x) for x in df_merged.tmdbId]\n",
    "print(df_merged.head())\n",
    "print(df_merged.shape)"
   ]
  },
  {
   "cell_type": "code",
   "execution_count": 7,
   "metadata": {},
   "outputs": [
    {
     "data": {
      "text/plain": [
       "9715"
      ]
     },
     "execution_count": 7,
     "metadata": {},
     "output_type": "execute_result"
    }
   ],
   "source": [
    "len(df_merged.tmdbId.unique())"
   ]
  },
  {
   "cell_type": "code",
   "execution_count": 8,
   "metadata": {},
   "outputs": [
    {
     "data": {
      "text/html": [
       "<div>\n",
       "<style scoped>\n",
       "    .dataframe tbody tr th:only-of-type {\n",
       "        vertical-align: middle;\n",
       "    }\n",
       "\n",
       "    .dataframe tbody tr th {\n",
       "        vertical-align: top;\n",
       "    }\n",
       "\n",
       "    .dataframe thead th {\n",
       "        text-align: right;\n",
       "    }\n",
       "</style>\n",
       "<table border=\"1\" class=\"dataframe\">\n",
       "  <thead>\n",
       "    <tr style=\"text-align: right;\">\n",
       "      <th></th>\n",
       "      <th>userId</th>\n",
       "      <th>tmdbId</th>\n",
       "      <th>rating</th>\n",
       "    </tr>\n",
       "  </thead>\n",
       "  <tbody>\n",
       "    <tr>\n",
       "      <th>0</th>\n",
       "      <td>1</td>\n",
       "      <td>862</td>\n",
       "      <td>4.0</td>\n",
       "    </tr>\n",
       "    <tr>\n",
       "      <th>1</th>\n",
       "      <td>5</td>\n",
       "      <td>862</td>\n",
       "      <td>4.0</td>\n",
       "    </tr>\n",
       "    <tr>\n",
       "      <th>2</th>\n",
       "      <td>7</td>\n",
       "      <td>862</td>\n",
       "      <td>4.5</td>\n",
       "    </tr>\n",
       "    <tr>\n",
       "      <th>3</th>\n",
       "      <td>15</td>\n",
       "      <td>862</td>\n",
       "      <td>2.5</td>\n",
       "    </tr>\n",
       "    <tr>\n",
       "      <th>4</th>\n",
       "      <td>17</td>\n",
       "      <td>862</td>\n",
       "      <td>4.5</td>\n",
       "    </tr>\n",
       "  </tbody>\n",
       "</table>\n",
       "</div>"
      ],
      "text/plain": [
       "   userId  tmdbId  rating\n",
       "0       1     862     4.0\n",
       "1       5     862     4.0\n",
       "2       7     862     4.5\n",
       "3      15     862     2.5\n",
       "4      17     862     4.5"
      ]
     },
     "execution_count": 8,
     "metadata": {},
     "output_type": "execute_result"
    }
   ],
   "source": [
    "\"\"\"Generate Rating matrix\"\"\" \n",
    "df_rating = df_merged[['userId','tmdbId','rating']]\n",
    "df_rating.head()"
   ]
  },
  {
   "cell_type": "code",
   "execution_count": 9,
   "metadata": {},
   "outputs": [],
   "source": [
    "\"\"\"Create SparkContext\"\"\"\n",
    "sc = pyspark.SparkContext.getOrCreate()\n",
    "sqlContext = SQLContext(sc)"
   ]
  },
  {
   "cell_type": "code",
   "execution_count": 10,
   "metadata": {},
   "outputs": [
    {
     "name": "stdout",
     "output_type": "stream",
     "text": [
      "root\n",
      " |-- userId: long (nullable = true)\n",
      " |-- tmdbId: long (nullable = true)\n",
      " |-- rating: double (nullable = true)\n",
      "\n"
     ]
    }
   ],
   "source": [
    "\"\"\"Create Spark dataframe\"\"\"\n",
    "df_spark = sqlContext.createDataFrame(df_rating)\n",
    "df_spark.printSchema()"
   ]
  },
  {
   "cell_type": "code",
   "execution_count": 11,
   "metadata": {},
   "outputs": [
    {
     "data": {
      "text/plain": [
       "[Row(userId=1, tmdbId=862, rating=4.0),\n",
       " Row(userId=5, tmdbId=862, rating=4.0),\n",
       " Row(userId=7, tmdbId=862, rating=4.5),\n",
       " Row(userId=15, tmdbId=862, rating=2.5),\n",
       " Row(userId=17, tmdbId=862, rating=4.5)]"
      ]
     },
     "execution_count": 11,
     "metadata": {},
     "output_type": "execute_result"
    }
   ],
   "source": [
    "df_spark.head(5)"
   ]
  },
  {
   "cell_type": "code",
   "execution_count": 12,
   "metadata": {},
   "outputs": [],
   "source": [
    "\"\"\"Train ALS model \"\"\"\n",
    "rank = 5\n",
    "numIterations = 10\n",
    "model = ALS.train(df_spark, rank, numIterations)"
   ]
  },
  {
   "cell_type": "markdown",
   "metadata": {},
   "source": [
    "### ALS: One of Collabrative filtering \n",
    "\n",
    "#1 User features S\n",
    "\n",
    "#2 bridge        V\n",
    "\n",
    "#3 Product       D"
   ]
  },
  {
   "cell_type": "code",
   "execution_count": 13,
   "metadata": {},
   "outputs": [
    {
     "data": {
      "text/plain": [
       "'features for product one'"
      ]
     },
     "metadata": {},
     "output_type": "display_data"
    },
    {
     "data": {
      "text/plain": [
       "(16,\n",
       " array('d', [3.310121536254883, 0.4654504656791687, 1.167807698249817, 0.4197458028793335, -0.7567285895347595]))"
      ]
     },
     "metadata": {},
     "output_type": "display_data"
    },
    {
     "data": {
      "text/plain": [
       "'features for user one'"
      ]
     },
     "metadata": {},
     "output_type": "display_data"
    },
    {
     "data": {
      "text/plain": [
       "(8,\n",
       " array('d', [0.3368377387523651, 1.1229897737503052, 0.06548604369163513, -1.1799126863479614, -0.10284101963043213]))"
      ]
     },
     "metadata": {},
     "output_type": "display_data"
    },
    {
     "name": "stdout",
     "output_type": "stream",
     "text": [
      "Top 10 moive recommendations for user 242: \n",
      "\n"
     ]
    },
    {
     "data": {
      "text/plain": [
       "[Rating(user=197, product=242, rating=5.304480973911692),\n",
       " Rating(user=543, product=242, rating=5.281337931425638),\n",
       " Rating(user=53, product=242, rating=5.219841377152572),\n",
       " Rating(user=276, product=242, rating=5.0326547707896285),\n",
       " Rating(user=130, product=242, rating=4.969749880493975),\n",
       " Rating(user=413, product=242, rating=4.961759087180705),\n",
       " Rating(user=494, product=242, rating=4.934886006319921),\n",
       " Rating(user=92, product=242, rating=4.895501165461492),\n",
       " Rating(user=162, product=242, rating=4.894090989016076),\n",
       " Rating(user=127, product=242, rating=4.888482917438072)]"
      ]
     },
     "metadata": {},
     "output_type": "display_data"
    },
    {
     "name": "stdout",
     "output_type": "stream",
     "text": [
      "Top 10 users to recommend for product 196\n"
     ]
    },
    {
     "data": {
      "text/plain": [
       "[Rating(user=196, product=62215, rating=15.389093776936207),\n",
       " Rating(user=196, product=11337, rating=13.504014434024938),\n",
       " Rating(user=196, product=10937, rating=13.38470019294921),\n",
       " Rating(user=196, product=8766, rating=12.841970982151164),\n",
       " Rating(user=196, product=81796, rating=12.77287059602358),\n",
       " Rating(user=196, product=26317, rating=12.085729238941493),\n",
       " Rating(user=196, product=17745, rating=11.594710376727903),\n",
       " Rating(user=196, product=179144, rating=11.539015361647948),\n",
       " Rating(user=196, product=24266, rating=11.286366718534119),\n",
       " Rating(user=196, product=10646, rating=11.036652072424218)]"
      ]
     },
     "metadata": {},
     "output_type": "display_data"
    },
    {
     "name": "stdout",
     "output_type": "stream",
     "text": [
      "prediction of rate for User 196 --> movie 242\n"
     ]
    },
    {
     "data": {
      "text/plain": [
       "4.067075144922935"
      ]
     },
     "metadata": {},
     "output_type": "display_data"
    }
   ],
   "source": [
    "\"\"\"Recommendation based on Users & Products\"\"\"\n",
    "display('features for product one', model.productFeatures().first())\n",
    "display('features for user one',model.userFeatures().first())\n",
    "\n",
    "# For Product X, Find N Users to Sell To\n",
    "productForUser = model.recommendUsers(242,10)\n",
    "print(\"Top 10 moive recommendations for user 242: \\n\")\n",
    "display(productForUser)\n",
    "\n",
    "# For User Y Find N Products to Promote\n",
    "userForProduct = model.recommendProducts(196,10)\n",
    "print(\"Top 10 users to recommend for product 196\")\n",
    "display(userForProduct)\n",
    "\n",
    "# Predict ratings\n",
    "ratingPredict= model.predict(196,242)\n",
    "print(\"prediction of rate for User 196 --> movie 242\")\n",
    "display(ratingPredict)\n",
    "\n",
    "productFeatures = model.productFeatures()"
   ]
  },
  {
   "cell_type": "markdown",
   "metadata": {},
   "source": [
    "### Evaluation"
   ]
  },
  {
   "cell_type": "code",
   "execution_count": null,
   "metadata": {},
   "outputs": [],
   "source": []
  },
  {
   "cell_type": "code",
   "execution_count": null,
   "metadata": {},
   "outputs": [],
   "source": []
  },
  {
   "cell_type": "code",
   "execution_count": 14,
   "metadata": {},
   "outputs": [
    {
     "data": {
      "text/plain": [
       "'Get Mean Square Error'"
      ]
     },
     "execution_count": 14,
     "metadata": {},
     "output_type": "execute_result"
    }
   ],
   "source": [
    "\"\"\"Get Mean Square Error\"\"\"\n",
    "# True:4.6 pred:5, cost: 0.4**2\n",
    "\n",
    "# Background: ALS: 1 sparse matrix, 2 only a few rating 3 based on few rating --> get all rating\n",
    "# Sparse matrix: row:user, column: movie id, eg: 600 user, 100,00 movie rating, 4000 rating (ground truth), 6))*100,000   \n",
    "# Train process: 1. calculate all rating. \n",
    "\n",
    "# Interview: Decomposed based, decompose to user feature, project feature & transformation matrix"
   ]
  },
  {
   "cell_type": "markdown",
   "metadata": {},
   "source": [
    "# Recommendation based on Posters (CNN)"
   ]
  },
  {
   "cell_type": "code",
   "execution_count": 15,
   "metadata": {},
   "outputs": [],
   "source": [
    "\"\"\"Download poster data for tmdb movies\"\"\"\n",
    "\n",
    "tmdbIds = df_spark.select('tmdbId').distinct().collect()\n",
    "tmdbIdsPool = set([x.asDict()['tmdbId'] for x in tmdbIds])"
   ]
  },
  {
   "cell_type": "code",
   "execution_count": 16,
   "metadata": {},
   "outputs": [
    {
     "data": {
      "text/plain": [
       "9715"
      ]
     },
     "execution_count": 16,
     "metadata": {},
     "output_type": "execute_result"
    }
   ],
   "source": [
    "len(tmdbIdsPool)"
   ]
  },
  {
   "cell_type": "code",
   "execution_count": 18,
   "metadata": {},
   "outputs": [],
   "source": [
    "def helper(id):\n",
    "    tmdbPath = 'http://image.tmdb.org/t/p/w185/' # check https://developers.themoviedb.org/3/getting-started/image-languages\n",
    "\n",
    "    movieInfo = tmdb.Movies(id).info()\n",
    "    # print(movieInfo)\n",
    "    posterPath = movieInfo['poster_path']\n",
    "    fullPath = tmdbPath + posterPath\n",
    "    urllib.request.urlretrieve(fullPath, \"data/poster/{}.jpg\".format(id))\n",
    "    print(id,\"downloaded successfully\")"
   ]
  },
  {
   "cell_type": "code",
   "execution_count": null,
   "metadata": {},
   "outputs": [],
   "source": [
    "notAvailable = []\n",
    "for id in tmdbIdsPool:\n",
    "    try:\n",
    "        tmpPath = helper(id)\n",
    "    except:\n",
    "        notAvailable.append(id)\n",
    "        print(id)"
   ]
  },
  {
   "cell_type": "code",
   "execution_count": null,
   "metadata": {},
   "outputs": [],
   "source": []
  },
  {
   "cell_type": "code",
   "execution_count": 19,
   "metadata": {},
   "outputs": [
    {
     "name": "stdout",
     "output_type": "stream",
     "text": [
      "14 downloaded successfully\n",
      "12 downloaded successfully\n",
      "5 downloaded successfully\n",
      "16 downloaded successfully\n",
      "2 downloaded successfully\n",
      "15 downloaded successfully\n",
      "13 downloaded successfully\n",
      "11 downloaded successfully\n",
      "6 downloaded successfully\n",
      "65550 downloaded successfully\n",
      "18 downloaded successfully\n",
      "19 downloaded successfully\n",
      "24 downloaded successfully\n",
      "20 downloaded successfully\n",
      "25 downloaded successfully\n",
      "21 downloaded successfully\n",
      "33 downloaded successfully\n",
      "28 downloaded successfully\n",
      "3522  downloaded successfully\n",
      "downloaded successfully\n",
      "38 downloaded successfully\n",
      "196649 downloaded successfully\n",
      "294963 downloaded successfully\n",
      "58 downloaded successfully\n",
      "32823 downloaded successfully\n",
      "55 downloaded successfully\n",
      "65595 downloaded successfully\n",
      "63 downloaded successfully\n",
      "62 downloaded successfully\n",
      "59 downloaded successfully\n",
      "64 downloaded successfully\n",
      "65 downloaded successfully\n",
      "32836 downloaded successfully\n",
      "67 downloaded successfully\n",
      "66 downloaded successfully\n",
      "69 downloaded successfully\n",
      "68 downloaded successfully\n",
      "71 downloaded successfully\n",
      "70 downloaded successfully\n",
      "73 downloaded successfully\n",
      "1498 downloaded successfully\n",
      "34280 downloaded successfully\n",
      "1497 downloaded successfully\n",
      "1499 downloaded successfully\n",
      "34283 downloaded successfully\n",
      "1523 downloaded successfully\n",
      "230896 downloaded successfully\n",
      "34299 downloaded successfully\n",
      "67067 downloaded successfully\n",
      "34300 downloaded successfully\n",
      "1537 downloaded successfully\n",
      "1535 downloaded successfully\n",
      "1541 downloaded successfully\n",
      "1538 downloaded successfully\n",
      "34314 downloaded successfully\n",
      "1542 downloaded successfully\n",
      "1547 downloaded successfully\n",
      "1548 downloaded successfully\n",
      "1544 downloaded successfully\n",
      "1546 downloaded successfully\n",
      "1552 downloaded successfully\n",
      "1550 downloaded successfully\n",
      "1551 downloaded successfully\n",
      "1553 downloaded successfully\n",
      "34322 downloaded successfully\n",
      "1555 downloaded successfully\n",
      "1554 downloaded successfully\n",
      "99861 downloaded successfully\n",
      "34326 downloaded successfully\n",
      "34327 downloaded successfully\n",
      "34328 downloaded successfully\n",
      "1562 downloaded successfully\n",
      "1563 downloaded successfully\n",
      "1561 downloaded successfully\n",
      "1572 downloaded successfully\n",
      "1571 downloaded successfully\n",
      "1567 downloaded successfully\n",
      "34341 downloaded successfully\n",
      "1574 downloaded successfully\n",
      "1573 downloaded successfully\n",
      "4437 downloaded successfully\n",
      "37191 downloaded successfully\n",
      "430423 downloaded successfully\n",
      "4464 downloaded successfully\n",
      "4442 downloaded successfully\n",
      "37233 downloaded successfully\n",
      "4441 downloaded successfully\n",
      "4474 downloaded successfully\n",
      "4475 downloaded successfully\n",
      "37239 downloaded successfully\n",
      "37244 downloaded successfully\n",
      "4478 downloaded successfully\n",
      "4477 downloaded successfully\n",
      "4480 downloaded successfully\n",
      "37247 downloaded successfully\n",
      "4484 downloaded successfully\n",
      "4482 downloaded successfully\n",
      "201085 downloaded successfully\n",
      "4483 downloaded successfully\n",
      "4485 downloaded successfully\n",
      "4486 downloaded successfully\n",
      "201088 downloaded successfully\n",
      "4488 downloaded successfully\n",
      "37257 downloaded successfully\n",
      "37258 downloaded successfully\n",
      "266647 downloaded successfully\n",
      "4512 downloaded successfully\n",
      "70042 downloaded successfully\n",
      "4497 downloaded successfully\n",
      "4513 downloaded successfully\n",
      "4517 downloaded successfully\n",
      "4515 downloaded successfully\n",
      "4518 downloaded successfully\n",
      "4520 downloaded successfully\n",
      "37291 downloaded successfully\n",
      "37292 downloaded successfully\n",
      "4523 downloaded successfully\n",
      "70061 downloaded successfully\n",
      "37296 downloaded successfully\n",
      "37272 downloaded successfully\n",
      "270400 downloaded successfully\n",
      "270393 downloaded successfully\n",
      "8247 downloaded successfully\n",
      "8265 downloaded successfully\n",
      "8273 downloaded successfully\n",
      "8272 downloaded successfully\n",
      "8270 downloaded successfully\n",
      "8271 downloaded successfully\n",
      "8275 downloaded successfully\n",
      "8274 downloaded successfully\n",
      "8277 downloaded successfully\n",
      "41050 downloaded successfully\n",
      "8284 downloaded successfully\n",
      "8285 downloaded successfully\n",
      "8289 downloaded successfully\n",
      "8290 downloaded successfully\n",
      "8288 downloaded successfully\n",
      "41059 downloaded successfully\n",
      "8293 downloaded successfully\n",
      "335970 downloaded successfully\n",
      "8291 downloaded successfully\n",
      "41058 downloaded successfully\n",
      "8292 downloaded successfully\n",
      "335984 downloaded successfully\n",
      "8321 downloaded successfully\n",
      "41090 downloaded successfully\n",
      "8324 downloaded successfully\n",
      "73861 downloaded successfully\n",
      "8326 downloaded successfully\n",
      "8327 downloaded successfully\n",
      "8328 downloaded successfully\n",
      "8329 downloaded successfully\n",
      "8337 downloaded successfully\n",
      "8333 downloaded successfully\n",
      "8338 downloaded successfully\n",
      "8340 downloaded successfully\n",
      "8342 downloaded successfully\n",
      "270487 downloaded successfully\n",
      "106646 downloaded successfully\n",
      "8346 downloaded successfully\n",
      "9977 downloaded successfully\n",
      "42740 downloaded successfully\n",
      "42738 downloaded successfully\n",
      "9975 downloaded successfully\n",
      "9981 downloaded successfully\n",
      "9980 downloaded successfully\n",
      "9982 downloaded successfully\n",
      "42750 downloaded successfully\n",
      "141052 downloaded successfully\n",
      "9986 downloaded successfully\n",
      "9988 downloaded successfully\n",
      "9989 downloaded successfully\n",
      "9991 downloaded successfully\n",
      "337674 downloaded successfully\n",
      "9994 downloaded successfully\n",
      "10001 downloaded successfully\n",
      "10003 downloaded successfully\n",
      "10002 downloaded successfully\n",
      "10005 downloaded successfully\n",
      "10008 downloaded successfully\n",
      "108312 downloaded successfully\n",
      "10009 downloaded successfully\n",
      "10012 downloaded successfully\n",
      "10014 downloaded successfully\n",
      "10013 downloaded successfully\n",
      "10016 downloaded successfully\n",
      "10017 downloaded successfully\n",
      "10015 downloaded successfully\n",
      "10019 downloaded successfully\n",
      "403232 downloaded successfully\n",
      "10020 downloaded successfully\n",
      "10022 downloaded successfully\n",
      "10023 downloaded successfully\n",
      "10024 downloaded successfully\n",
      "10021 downloaded successfully\n",
      "337703 downloaded successfully\n",
      "10025 downloaded successfully\n",
      "10028 downloaded successfully\n",
      "42797 downloaded successfully\n",
      "42791 downloaded successfully\n",
      "11447 downloaded successfully\n",
      "44214 downloaded successfully\n",
      "11448 downloaded successfully\n",
      "11450 downloaded successfully\n",
      "11451 downloaded successfully\n",
      "11453 downloaded successfully\n",
      "11452 downloaded successfully\n",
      "11454 downloaded successfully\n",
      "240832 downloaded successfully\n",
      "11455 downloaded successfully\n",
      "11456 downloaded successfully\n",
      "11457 downloaded successfully\n",
      "11460 downloaded successfully\n",
      "11458 downloaded successfully\n",
      "11468 downloaded successfully\n",
      "11465 downloaded successfully\n",
      "11467 downloaded successfully\n",
      "11462 downloaded successfully\n",
      "11459 downloaded successfully\n",
      "76996 downloaded successfully\n",
      "11469 downloaded successfully\n",
      "11471 downloaded successfully\n",
      "11470 downloaded successfully\n",
      "44238 downloaded successfully\n",
      "11472 downloaded successfully\n",
      "11474 downloaded successfully\n",
      "77016 downloaded successfully\n",
      "11475 downloaded successfully\n",
      "11481 downloaded successfully\n",
      "11478 downloaded successfully\n",
      "11482 downloaded successfully\n",
      "11484 downloaded successfully\n",
      "11489 downloaded successfully\n",
      "11490 downloaded successfully\n",
      "11485 downloaded successfully\n",
      "44258 downloaded successfully\n",
      "44264 downloaded successfully\n",
      "11497 downloaded successfully\n",
      "11495 downloaded successfully\n",
      "44251 downloaded successfully\n",
      "13532 downloaded successfully\n",
      "13529 downloaded successfully\n",
      "13531 downloaded successfully\n",
      "13536 downloaded successfully\n",
      "13537 downloaded successfully\n",
      "13533 downloaded successfully\n",
      "13539 downloaded successfully\n",
      "13550 downloaded successfully\n",
      "13549 downloaded successfully\n",
      "13552 downloaded successfully\n",
      "13554 downloaded successfully\n",
      "13555 downloaded successfully\n",
      "13560 downloaded successfully\n",
      "13562 downloaded successfully\n",
      "13572 downloaded successfully\n",
      "13567 downloaded successfully\n",
      "13573 downloaded successfully\n",
      "13580 downloaded successfully\n",
      "13589 downloaded successfully\n",
      "13581 downloaded successfully\n",
      "13590 downloaded successfully\n",
      "308504 downloaded successfully\n",
      "13595 downloaded successfully\n",
      "13596 downloaded successfully\n",
      "13600 downloaded successfully\n",
      "308531 downloaded successfully\n",
      "13597 downloaded successfully\n",
      "79159 downloaded successfully\n",
      "13635 downloaded successfully\n",
      "13632 downloaded successfully\n",
      "13636 downloaded successfully\n",
      "13637 downloaded successfully\n",
      "13641 downloaded successfully\n",
      "13643 downloaded successfully\n",
      "13640 downloaded successfully\n",
      "13647 downloaded successfully\n",
      "13649 downloaded successfully\n",
      "46420 downloaded successfully\n",
      "13654 downloaded successfully\n",
      "177494 downloaded successfully\n"
     ]
    },
    {
     "name": "stdout",
     "output_type": "stream",
     "text": [
      "16771 downloaded successfully\n",
      "16780 downloaded successfully\n",
      "49538 downloaded successfully\n",
      "278927 downloaded successfully\n",
      "16784 downloaded successfully\n",
      "16806 downloaded successfully\n",
      "49565 downloaded successfully\n",
      "16820 downloaded successfully\n",
      "278990 downloaded successfully\n",
      "16858 downloaded successfully\n",
      "16859 downloaded successfully\n",
      "16857 downloaded successfully\n",
      "16804 downloaded successfully\n",
      "16866 downloaded successfully\n",
      "49636 downloaded successfully\n",
      "16869 downloaded successfully\n",
      "16885 downloaded successfully\n",
      "16871 downloaded successfully\n",
      "16876 downloaded successfully\n",
      "74998 downloaded successfully\n",
      "16889 downloaded successfully\n",
      "16888 downloaded successfully\n",
      "115199 downloaded successfully\n",
      "16905 downloaded successfully\n",
      "49680 downloaded successfully\n",
      "16933 downloaded successfully\n",
      "49689 downloaded successfully\n",
      "16938 downloaded successfully\n",
      "16934 downloaded successfully\n",
      "49721 downloaded successfully\n",
      "16939 downloaded successfully\n",
      "16909 downloaded successfully\n",
      "49730 downloaded successfully\n",
      "16958 downloaded successfully\n",
      "16941 downloaded successfully\n",
      "82505 downloaded successfully\n",
      "16969 downloaded successfully\n",
      "82507 downloaded successfully\n",
      "16972 downloaded successfully\n",
      "246355 downloaded successfully\n",
      "21641 downloaded successfully\n",
      "152742 downloaded successfully\n",
      "21661 downloaded successfully\n",
      "480409152747 downloaded successfully\n",
      " downloaded successfully\n",
      "21683 downloaded successfully\n",
      "152760 downloaded successfully\n",
      "447682 downloaded successfully\n",
      "21711 downloaded successfully\n",
      "21710 downloaded successfully\n",
      "21712 downloaded successfully\n",
      "152790 downloaded successfully\n",
      "21721 downloaded successfully\n",
      "21734 downloaded successfully\n",
      "21719 downloaded successfully\n",
      "185567 downloaded successfully\n",
      "21736 downloaded successfully\n",
      "21755 downloaded successfully\n",
      "54507 downloaded successfully\n",
      "185574 downloaded successfully\n",
      "54527 downloaded successfully\n",
      "21764 downloaded successfully\n",
      "21811 downloaded successfully\n",
      "54568 downloaded successfully\n",
      "54546 downloaded successfully\n",
      "21784 downloaded successfully\n",
      "54580 downloaded successfully\n",
      "21828 downloaded successfully\n",
      "316727 downloaded successfully\n",
      "21832 downloaded successfully\n",
      "447818 downloaded successfully\n",
      "21845 downloaded successfully\n",
      "21849 downloaded successfully\n",
      "251232 downloaded successfully\n",
      "283995 downloaded successfully\n",
      "21866 downloaded successfully\n",
      "21873 downloaded successfully\n",
      "21867 downloaded successfully\n",
      "21868 downloaded successfully\n",
      "382322 downloaded successfully\n",
      "27327 downloaded successfully\n",
      "27331 downloaded successfully\n",
      "27332 downloaded successfully\n",
      "27329 downloaded successfully\n",
      "27362 downloaded successfully\n",
      "158413 downloaded successfully\n",
      "27352 downloaded successfully\n",
      "27360 downloaded successfully\n",
      "27367 downloaded successfully\n",
      "27397 downloaded successfully\n",
      "256740 downloaded successfully\n",
      "27390 downloaded successfully\n",
      "27412 downloaded successfully\n",
      "125709 downloaded successfully\n",
      "27414 downloaded successfully\n",
      "27418 downloaded successfully\n",
      "27431 downloaded successfully\n",
      "27430 downloaded successfully\n",
      "27437 downloaded successfully\n",
      "387893 downloaded successfully\n",
      "27444 downloaded successfully\n",
      "27451 downloaded successfully\n",
      "27458 downloaded successfully\n",
      "27459 downloaded successfully\n",
      "27452 downloaded successfully\n",
      "27460 downloaded successfully\n",
      "27472 downloaded successfully\n",
      "27461 downloaded successfully\n",
      "27475 downloaded successfully\n",
      "60243 downloaded successfully\n",
      "420707 downloaded successfully\n",
      "60285 downloaded successfully\n",
      "60293 downloaded successfully\n",
      "256876 downloaded successfully\n",
      "60276 downloaded successfully\n",
      "27526 downloaded successfully\n",
      "224141 downloaded successfully\n",
      "60304 downloaded successfully\n",
      "60307 downloaded successfully\n"
     ]
    }
   ],
   "source": [
    "\"\"\"Scrape movie poster from restful API with multiprocess\"\"\"\n",
    "with ThreadPoolExecutor(max_workers=10) as ex:\n",
    "    ex.map(lambda x: helper(x),tmdbIdsPool)"
   ]
  },
  {
   "cell_type": "code",
   "execution_count": 23,
   "metadata": {},
   "outputs": [],
   "source": [
    "posterIds = os.listdir('data/poster/')\n",
    "\n",
    "extractor = ImgExtractor(model=\"VGG16\")"
   ]
  },
  {
   "cell_type": "code",
   "execution_count": 25,
   "metadata": {},
   "outputs": [
    {
     "data": {
      "text/plain": [
       "400"
      ]
     },
     "execution_count": 25,
     "metadata": {},
     "output_type": "execute_result"
    }
   ],
   "source": [
    "len(posterIds)"
   ]
  },
  {
   "cell_type": "code",
   "execution_count": 27,
   "metadata": {},
   "outputs": [
    {
     "name": "stdout",
     "output_type": "stream",
     "text": [
      "load Image locally\n"
     ]
    }
   ],
   "source": [
    "features = extractor.get_features(\"data/poster/505.jpg\")"
   ]
  },
  {
   "cell_type": "code",
   "execution_count": 29,
   "metadata": {},
   "outputs": [
    {
     "data": {
      "text/plain": [
       "(1, 1000)"
      ]
     },
     "execution_count": 29,
     "metadata": {},
     "output_type": "execute_result"
    }
   ],
   "source": [
    "features.shape"
   ]
  },
  {
   "cell_type": "markdown",
   "metadata": {},
   "source": [
    "### Compare similarity\n",
    "#### Cosine similarity"
   ]
  },
  {
   "cell_type": "code",
   "execution_count": 31,
   "metadata": {},
   "outputs": [],
   "source": [
    "# you like one poster, find the most similar poster"
   ]
  },
  {
   "cell_type": "code",
   "execution_count": 4,
   "metadata": {},
   "outputs": [],
   "source": [
    "\"\"\"Define function to extract features from folder\"\"\"\n",
    "def helper(id,posterPath):\n",
    "    pwd = os.getcwd()\n",
    "    path = os.path.join(pwd,posterPath,str(id))\n",
    "    filename = os.listdir(path)[0]\n",
    "    imgPath = os.path.join(path,filename)\n",
    "    feature = extractor.get_features(imgPath)\n",
    "    print(\"Load Image {} success\".format(id))\n",
    "    return feature"
   ]
  },
  {
   "cell_type": "code",
   "execution_count": null,
   "metadata": {},
   "outputs": [],
   "source": [
    "dicFeatures = {}\n",
    "for id in posterIds:\n",
    "    dicFeatures[id] = helper(id,posterPath=\"data/poster\")"
   ]
  }
 ],
 "metadata": {
  "kernelspec": {
   "display_name": "Python 3",
   "language": "python",
   "name": "python3"
  },
  "language_info": {
   "codemirror_mode": {
    "name": "ipython",
    "version": 3
   },
   "file_extension": ".py",
   "mimetype": "text/x-python",
   "name": "python",
   "nbconvert_exporter": "python",
   "pygments_lexer": "ipython3",
   "version": "3.6.5"
  }
 },
 "nbformat": 4,
 "nbformat_minor": 2
}
